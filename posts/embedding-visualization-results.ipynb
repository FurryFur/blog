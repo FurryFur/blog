{
 "cells": [
  {
   "cell_type": "markdown",
   "metadata": {},
   "source": [
    "Write your post here."
   ]
  }
 ],
 "metadata": {
  "kernelspec": {
   "display_name": "Python [conda env:tensorflow]",
   "language": "python",
   "name": "conda-env-tensorflow-py"
  },
  "language_info": {
   "codemirror_mode": {
    "name": "ipython",
    "version": 3
   },
   "file_extension": ".py",
   "mimetype": "text/x-python",
   "name": "python",
   "nbconvert_exporter": "python",
   "pygments_lexer": "ipython3",
   "version": "3.5.5"
  },
  "nikola": {
   "category": "",
   "date": "2018-10-02 19:00:04 UTC+13:00",
   "description": "",
   "link": "",
   "slug": "embedding-visualization-results",
   "tags": "",
   "title": "Embedding Visualization Results",
   "type": "text"
  }
 },
 "nbformat": 4,
 "nbformat_minor": 2
}
