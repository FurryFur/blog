{
 "cells": [
  {
   "cell_type": "markdown",
   "metadata": {},
   "source": [
    "# Random Notes"
   ]
  },
  {
   "cell_type": "markdown",
   "metadata": {},
   "source": [
    "The critic appears to currently be unable to tell whether the difference between two real samples when one matches the conditioning text and the other does not. If we think of the original output of the critic as now being a score representing how well this audio clips matches the given conditioning text,  the critic should output a high score for real audio clips and a low score for wrong audio clips (those that are real but don't match the conditioning text). The original critic tries to output low scores for fakes images, while the generator tries to make it output high scores. The new critic should correspondingly also output low scores for fake audio clips (they don't match the conditioning text), while generator should try to make it output high scores for fake audio clips (try to trick the critic into thinking the fake audio clip matches the given conditioning text)."
   ]
  },
  {
   "cell_type": "markdown",
   "metadata": {},
   "source": [
    "Would be interesting to see what happens when the text condition critic is trained only on real data for the condition matching part, while the real/fake critic is trained as normal without any notion of whether a real image matches the conditioning text or not. One possibility for why things might be going so wrong is that the critic scores could be out of balance."
   ]
  },
  {
   "cell_type": "code",
   "execution_count": null,
   "metadata": {},
   "outputs": [],
   "source": []
  }
 ],
 "metadata": {
  "kernelspec": {
   "display_name": "Python [default]",
   "language": "python",
   "name": "python3"
  },
  "language_info": {
   "codemirror_mode": {
    "name": "ipython",
    "version": 3
   },
   "file_extension": ".py",
   "mimetype": "text/x-python",
   "name": "python",
   "nbconvert_exporter": "python",
   "pygments_lexer": "ipython3",
   "version": "3.6.5"
  },
  "nikola": {
   "category": "",
   "date": "2018-10-09 08:08:40 UTC+13:00",
   "description": "",
   "link": "",
   "slug": "thoughts-on-wrong-label-critic",
   "tags": "",
   "title": "Thoughts on Wrong Label Critic",
   "type": "text"
  }
 },
 "nbformat": 4,
 "nbformat_minor": 2
}
